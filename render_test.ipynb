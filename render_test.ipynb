{
 "cells": [
  {
   "cell_type": "code",
   "execution_count": null,
   "metadata": {},
   "outputs": [],
   "source": [
    "import os\n",
    "os.environ['PYTORCH_CUDA_ALLOC_CONF'] = 'expandable_segments:True'\n",
    "import copy\n",
    "import time\n",
    "import cv2 \n",
    "import numpy as np \n",
    "import random\n",
    "\n",
    "from copy import deepcopy \n",
    "from collections import deque, defaultdict\n",
    "from typing import Any, Dict, List, Optional, Set, Tuple, Union\n",
    "from numpy.typing import ArrayLike, NDArray\n",
    "from pydantic import dataclasses, validator\n",
    "\n",
    "import dm_control\n",
    "from dm_control import mujoco as dm_mujoco\n",
    "from dm_control.utils.transformations import mat_to_quat, quat_to_euler\n",
    "import mujoco\n",
    "from rocobench.envs import SortOneBlockTask, CabinetTask, MoveRopeTask, SweepTask, MakeSandwichTask, PackGroceryTask, MujocoSimEnv, SimRobot, visualize_voxel_scene\n",
    "from lavis.models.eva_vit import create_eva_vit_g\n",
    "from lavis.common.registry import registry\n",
    "from omegaconf import OmegaConf\n",
    "from PIL import Image\n",
    "from tqdm import tqdm\n",
    "import gc"
   ]
  },
  {
   "cell_type": "code",
   "execution_count": null,
   "metadata": {},
   "outputs": [],
   "source": [
    "tracked = []\n",
    "env = PackGroceryTask(\n",
    "    render_freq=2000,\n",
    "    image_hw=(400,400), # Potentially important for getting RGBD images later on\n",
    "    sim_forward_steps=300, # number of time steps forward that mujoco simulates before deciding that the llms need to pick an easier to optimize plan\n",
    "    error_freq=30,\n",
    "    error_threshold=1e-5,\n",
    "    randomize_init=True,\n",
    "    render_point_cloud=0, # Potentially useful for speeding up point fusion\n",
    "    render_cameras=[\"face_panda\",\"face_ur5e\",\"teaser\",],\n",
    "    point_feature_cameras=tracked,\n",
    "    one_obj_each=True, # TODO: Understand this\n",
    ")"
   ]
  },
  {
   "cell_type": "code",
   "execution_count": null,
   "metadata": {},
   "outputs": [],
   "source": [
    "pointcloud = env.get_point_cloud()"
   ]
  },
  {
   "cell_type": "code",
   "execution_count": null,
   "metadata": {},
   "outputs": [],
   "source": [
    "pointcloud.show()"
   ]
  },
  {
   "cell_type": "code",
   "execution_count": null,
   "metadata": {},
   "outputs": [],
   "source": [
    "import cv2\n",
    "img = cv2.imread(\"rgb_image_sceneshot.png\")\n",
    "img = cv2.rotate(img, cv2.ROTATE_90_CLOCKWISE)\n",
    "h, w = img.shape[:2]\n",
    "\n",
    "focal_length = w / (2 * np.tan(45 * np.pi / 180))\n",
    "K = np.array([[focal_length, 0, w / 2],\n",
    "                  [0, focal_length, h / 2],\n",
    "                  [0, 0, 1]])\n",
    "dist_coeffs = np.zeros(4)\n",
    "new_camera_matrix, roi = cv2.getOptimalNewCameraMatrix(K, dist_coeffs, (w, h), 1, (w, h))\n",
    "undistorted_img = cv2.undistort(img, K, dist_coeffs, None, new_camera_matrix)\n",
    "x, y, w, h = roi\n",
    "undistorted_img = undistorted_img[y:y+h, x:x+w]\n",
    "cv2.imwrite(\"undistorted_sceneshot.png\", undistorted_img)"
   ]
  },
  {
   "cell_type": "code",
   "execution_count": null,
   "metadata": {},
   "outputs": [],
   "source": [
    "obj = \"cereal\"\n",
    "minx = min(pointcloud[obj].xyz_pts[:,0])\n",
    "maxx = max(pointcloud[obj].xyz_pts[:,0])\n",
    "miny = min(pointcloud[obj].xyz_pts[:,1])\n",
    "maxy = max(pointcloud[obj].xyz_pts[:,1])\n",
    "minz = min(pointcloud[obj].xyz_pts[:,2])\n",
    "maxz = max(pointcloud[obj].xyz_pts[:,2])\n",
    "width = maxx - minx\n",
    "height = maxy - miny\n",
    "depth = maxz - minz\n",
    "\n",
    "# Find the maximum dimension\n",
    "max_dim = max(width, height, depth)\n",
    "\n",
    "# Calculate the center of the bounding box\n",
    "center_x = (minx + maxx) / 2\n",
    "center_y = (miny + maxy) / 2\n",
    "center_z = (minz + maxz) / 2\n",
    "\n",
    "# Calculate the minimum and maximum coordinates of the bounding box\n",
    "bbox_min = (center_x - max_dim/2, center_y - max_dim/2, center_z - max_dim/2)\n",
    "bbox_max = (center_x + max_dim/2, center_y + max_dim/2, center_z + max_dim/2)\n",
    "bounds = (bbox_min, bbox_max)\n",
    "pointcloud[obj].show(pts_size=50, bounds=bounds)"
   ]
  },
  {
   "cell_type": "code",
   "execution_count": null,
   "metadata": {},
   "outputs": [],
   "source": [
    "print(f\"|{env.model.id2name(48, 'body')}|\")\n",
    "print(env.model.geom(171))\n",
    "print(f\"|{env.model.name2id('apple_visual', 'geom')}|\")"
   ]
  }
 ],
 "metadata": {
  "kernelspec": {
   "display_name": "roco3",
   "language": "python",
   "name": "python3"
  },
  "language_info": {
   "name": "python",
   "version": "3.8.19"
  }
 },
 "nbformat": 4,
 "nbformat_minor": 2
}
