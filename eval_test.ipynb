{
 "cells": [
  {
   "cell_type": "code",
   "execution_count": 1,
   "metadata": {},
   "outputs": [
    {
     "name": "stderr",
     "output_type": "stream",
     "text": [
      "/opt/conda/envs/eval/lib/python3.8/site-packages/transformers/utils/generic.py:311: UserWarning: torch.utils._pytree._register_pytree_node is deprecated. Please use torch.utils._pytree.register_pytree_node instead.\n",
      "  torch.utils._pytree._register_pytree_node(\n",
      "/opt/conda/envs/eval/lib/python3.8/site-packages/transformers/utils/generic.py:311: UserWarning: torch.utils._pytree._register_pytree_node is deprecated. Please use torch.utils._pytree.register_pytree_node instead.\n",
      "  torch.utils._pytree._register_pytree_node(\n"
     ]
    }
   ],
   "source": [
    "import timm\n",
    "import open_clip\n",
    "import os\n",
    "os.environ['PYTORCH_CUDA_ALLOC_CONF'] = 'expandable_segments:True'\n",
    "import torch\n",
    "torch.set_grad_enabled(False)\n",
    "import psutil\n",
    "from lavis.models.eva_vit import create_eva_vit_g\n",
    "from lavis.common.registry import registry\n",
    "from omegaconf import OmegaConf\n",
    "from PIL import Image\n",
    "from tqdm import tqdm\n",
    "import gc\n",
    "import cv2"
   ]
  },
  {
   "cell_type": "code",
   "execution_count": 2,
   "metadata": {},
   "outputs": [
    {
     "name": "stdout",
     "output_type": "stream",
     "text": [
      "mem used gpu: 0.00 MB, reserved gpu: 0.00MB -> 0.00% of total, 0.00% reserved\n",
      "mem used cpu: 2485.16 MB -> 5.16% of total\n"
     ]
    }
   ],
   "source": [
    "def print_mem_stats():\n",
    "    mem = psutil.virtual_memory()\n",
    "    total_system_memory = mem.total / (1024 ** 2)\n",
    "    used_system_memory = mem.used / (1024 ** 2)\n",
    "    total_gpu_memory = torch.cuda.get_device_properties(0).total_memory / (1024 ** 2)\n",
    "    reserved_gpu_memory = torch.cuda.memory_reserved(0) / (1024 ** 2)\n",
    "    allocated_gpu_memory = torch.cuda.memory_allocated(0) / (1024 ** 2)\n",
    "    percent_gpu_total = (allocated_gpu_memory / total_gpu_memory)*100\n",
    "    percent_gpu_reserved = (reserved_gpu_memory / total_gpu_memory)*100\n",
    "    percent_cpu_total = (used_system_memory / total_system_memory)*100\n",
    "    print(f\"mem used gpu: {allocated_gpu_memory:.2f} MB, reserved gpu: {reserved_gpu_memory:.2f}MB -> {percent_gpu_total:.2f}% of total, {percent_gpu_reserved:.2f}% reserved\")\n",
    "    print(f\"mem used cpu: {used_system_memory:.2f} MB -> {percent_cpu_total:.2f}% of total\")\n",
    "\n",
    "print_mem_stats()"
   ]
  },
  {
   "cell_type": "code",
   "execution_count": 3,
   "metadata": {},
   "outputs": [],
   "source": [
    "import pickle\n",
    "with open('outputs.pkl', 'rb') as f:\n",
    "    outputs = pickle.load(f)\n",
    "\n",
    "cpu_device = torch.device('cpu')\n",
    "gpu_device = torch.device('cuda')"
   ]
  },
  {
   "cell_type": "code",
   "execution_count": 4,
   "metadata": {},
   "outputs": [
    {
     "name": "stdout",
     "output_type": "stream",
     "text": [
      "mem used gpu: 3862.94 MB, reserved gpu: 3884.00MB -> 17.18% of total, 17.27% reserved\n",
      "mem used cpu: 2682.91 MB -> 5.57% of total\n"
     ]
    }
   ],
   "source": [
    "# load visual encoder onto cpu for storage\n",
    "visual_encoder = timm.models.eva_giant_patch14_clip_224(pretrained=True).to(gpu_device)\n",
    "# visual_encoder = create_eva_vit_g(512, precision='fp32').to(gpu_device)\n",
    "print_mem_stats()"
   ]
  },
  {
   "cell_type": "code",
   "execution_count": 5,
   "metadata": {},
   "outputs": [
    {
     "name": "stdout",
     "output_type": "stream",
     "text": [
      "(400, 400, 3)\n",
      "mem used gpu: 3871.64 MB, reserved gpu: 3906.00MB -> 17.21% of total, 17.37% reserved\n",
      "mem used cpu: 2819.30 MB -> 5.85% of total\n"
     ]
    }
   ],
   "source": [
    "cosine_similarity = torch.nn.CosineSimilarity(dim=-1)\n",
    "\n",
    "# calculate the global feature vector\n",
    "scene_img = outputs[\"sceneshotcam\"]\n",
    "print(scene_img.shape)\n",
    "scene_img = cv2.resize(scene_img, (224, 224))\n",
    "scene_tensor = torch.tensor(scene_img).permute(2, 0, 1).unsqueeze(0).float().to(gpu_device)\n",
    "\n",
    "# use GPU for this\n",
    "global_feat = visual_encoder.forward_features(scene_tensor)\n",
    "global_feat = global_feat.half()\n",
    "global_feat = global_feat.mean(1)\n",
    "global_feat = torch.nn.functional.normalize(global_feat, dim=-1)\n",
    "FEAT_DIM = global_feat.shape[-1]\n",
    "print_mem_stats()"
   ]
  },
  {
   "cell_type": "code",
   "execution_count": 10,
   "metadata": {},
   "outputs": [
    {
     "name": "stdout",
     "output_type": "stream",
     "text": [
      "global feature shape: torch.Size([1, 1408])\n"
     ]
    }
   ],
   "source": [
    "print(\"global feature shape:\", global_feat.shape)"
   ]
  },
  {
   "cell_type": "code",
   "execution_count": 6,
   "metadata": {},
   "outputs": [
    {
     "name": "stderr",
     "output_type": "stream",
     "text": [
      "100%|██████████| 9/9 [00:00<00:00, 12.48it/s]\n"
     ]
    },
    {
     "name": "stdout",
     "output_type": "stream",
     "text": [
      "mem used gpu: 9.31 MB, reserved gpu: 24.00MB -> 0.04% of total, 0.11% reserved\n",
      "mem used cpu: 3041.50 MB -> 6.31% of total\n"
     ]
    }
   ],
   "source": [
    "import numpy as np\n",
    "\n",
    "point_feature_cameras = ['sceneshotcam', 'apple', 'milk', 'cereal', 'bread', 'banana', 'bin', 'table', 'ur5e', 'panda']\n",
    "specific_views = list(set(point_feature_cameras) - {\"sceneshotcam\"})\n",
    "feat_per_obj = []\n",
    "obj_sim_per_unit_area = []\n",
    "for view in tqdm(specific_views):\n",
    "    # crop the image to the bounding box and run it through the visual encoder to get the feature vector for the object\n",
    "    obj_img = outputs[view]\n",
    "    obj_img = cv2.resize(obj_img, (224, 224))\n",
    "    # obj_img = np.array(Image.open(f\"rocobench/test_images/{view}.png\").resize((400, 400)))\n",
    "    img_roi = torch.tensor(obj_img).permute(2, 0, 1).unsqueeze(0).float().to(gpu_device)\n",
    "    roifeat = visual_encoder.forward_features(img_roi)\n",
    "    roifeat = roifeat.half().cuda()\n",
    "    roifeat = roifeat.mean(1)\n",
    "    roifeat = torch.nn.functional.normalize(roifeat, dim=-1)\n",
    "    feat_per_obj.append(roifeat)\n",
    "\n",
    "    # calculate the cosine similarity between the global feature vector and the feature vector for the object and save that as well\n",
    "    _sim = cosine_similarity(global_feat, roifeat)\n",
    "    obj_sim_per_unit_area.append(_sim)\n",
    "\n",
    "    torch.cuda.empty_cache()\n",
    "\n",
    "visual_encoder = None\n",
    "del visual_encoder\n",
    "gc.collect()\n",
    "torch.cuda.empty_cache()\n",
    "\n",
    "print_mem_stats()"
   ]
  },
  {
   "cell_type": "code",
   "execution_count": 7,
   "metadata": {},
   "outputs": [
    {
     "name": "stdout",
     "output_type": "stream",
     "text": [
      "global feature shape: torch.Size([1, 1408])\n"
     ]
    }
   ],
   "source": [
    "print(\"global feature shape:\", global_feat.shape)"
   ]
  },
  {
   "cell_type": "code",
   "execution_count": 8,
   "metadata": {},
   "outputs": [
    {
     "name": "stdout",
     "output_type": "stream",
     "text": [
      "tensor([[1.0000, 0.9707, 0.9321, 0.9644, 0.9771, 0.9761, 0.9282, 0.9785, 0.9873],\n",
      "        [0.9707, 1.0000, 0.8770, 0.9487, 0.9956, 0.9722, 0.8784, 0.9937, 0.9907],\n",
      "        [0.9321, 0.8770, 1.0000, 0.8823, 0.8823, 0.8965, 0.9800, 0.8940, 0.9048],\n",
      "        [0.9644, 0.9487, 0.8823, 0.9995, 0.9536, 0.9824, 0.8975, 0.9526, 0.9688],\n",
      "        [0.9771, 0.9956, 0.8823, 0.9536, 1.0010, 0.9771, 0.8828, 0.9956, 0.9927],\n",
      "        [0.9761, 0.9722, 0.8965, 0.9824, 0.9771, 1.0000, 0.9033, 0.9717, 0.9824],\n",
      "        [0.9282, 0.8784, 0.9800, 0.8975, 0.8828, 0.9033, 1.0010, 0.8955, 0.9043],\n",
      "        [0.9785, 0.9937, 0.8940, 0.9526, 0.9956, 0.9717, 0.8955, 0.9995, 0.9932],\n",
      "        [0.9873, 0.9907, 0.9048, 0.9688, 0.9927, 0.9824, 0.9043, 0.9932, 1.0010]],\n",
      "       device='cuda:0', dtype=torch.float16)\n",
      "mem used gpu: 9.31 MB, reserved gpu: 24.00MB -> 0.04% of total, 0.11% reserved\n",
      "mem used cpu: 3124.12 MB -> 6.48% of total\n",
      "['apple', 'table', 'ur5e', 'cereal', 'banana', 'bread', 'panda', 'bin', 'milk']\n",
      "tensor([0.1119, 0.1085, 0.1190, 0.1074, 0.1086, 0.1079, 0.1177, 0.1096, 0.1095],\n",
      "       device='cuda:0', dtype=torch.float16)\n"
     ]
    }
   ],
   "source": [
    "scores = torch.cat(obj_sim_per_unit_area).to(gpu_device)\n",
    "feat_per_obj = torch.cat(feat_per_obj, dim=0).to(gpu_device)\n",
    "# norm_feat_per_obj = torch.nn.functional.normalize(feat_per_obj, p=2, dim=1)\n",
    "\n",
    "# get the cosine simixlarity between the features of each object. This will be a square matrix where the (i, j)th entry is the cosine similarity between the ith and jth objects\n",
    "mask_sim_mat = torch.nn.functional.cosine_similarity(\n",
    "    feat_per_obj[:, :, None], feat_per_obj.t()[None, :, :]\n",
    ")\n",
    "print(mask_sim_mat)\n",
    "mask_sim_mat.fill_diagonal_(0.0) # set the diagonal to 0 because we don't want to consider the similarity between the same object\n",
    "mask_sim_mat = mask_sim_mat.mean(1)  # avg sim of each mask with each other mask\n",
    "softmax_scores = scores.cuda() - mask_sim_mat # subtracting the object-object relevance (which can be thought of as the relevance of the object in context of the other objects) object-scene similarity (which is kind of like global relevance) gives how much more or less important that object is than all the other objects\n",
    "softmax_scores = torch.nn.functional.softmax(softmax_scores, dim=0) # apply softmax to get the final scores\n",
    "print_mem_stats()\n",
    "\n",
    "print(specific_views)\n",
    "print(softmax_scores)"
   ]
  },
  {
   "cell_type": "code",
   "execution_count": 9,
   "metadata": {},
   "outputs": [
    {
     "name": "stdout",
     "output_type": "stream",
     "text": [
      "torch.Size([9])\n"
     ]
    }
   ],
   "source": [
    "print(feat_per_obj.shape)"
   ]
  },
  {
   "cell_type": "code",
   "execution_count": 9,
   "metadata": {},
   "outputs": [
    {
     "name": "stdout",
     "output_type": "stream",
     "text": [
      "torch.Size([1195306, 1408])\n",
      "mem used gpu: 9.31 MB, reserved gpu: 24.00MB -> 0.04% of total, 0.11% reserved\n",
      "mem used cpu: 6343.19 MB -> 13.16% of total\n"
     ]
    }
   ],
   "source": [
    "xyz_pts = outputs['xyz_pts']\n",
    "segmentation_pts = outputs['segmentation_pts']\n",
    "\n",
    "pixelwise_features = torch.zeros(xyz_pts.shape[0], FEAT_DIM, dtype=torch.half)#global_feat.repeat((xyz_pts.shape[0], 1))\n",
    "print(pixelwise_features.shape)#torch.zeros(xyz_pts.shape[0], FEAT_DIM, dtype=torch.half)\n",
    "print_mem_stats()"
   ]
  },
  {
   "cell_type": "code",
   "execution_count": 10,
   "metadata": {},
   "outputs": [
    {
     "name": "stdout",
     "output_type": "stream",
     "text": [
      "mem used gpu: 3219.36 MB, reserved gpu: 3244.00MB -> 14.31% of total, 14.42% reserved\n",
      "mem used cpu: 3128.12 MB -> 6.49% of total\n"
     ]
    }
   ],
   "source": [
    "pixelwise_features = pixelwise_features.to(gpu_device)\n",
    "for objidx in range(len(specific_views)):\n",
    "    _weighted_feat = (\n",
    "        softmax_scores[objidx] * global_feat + (1 - softmax_scores[objidx]) * feat_per_obj[objidx]\n",
    "    )\n",
    "    _weighted_feat = torch.nn.functional.normalize(_weighted_feat, dim=-1)\n",
    "    pixelwise_features[segmentation_pts[specific_views[objidx]], :] = feat_per_obj[objidx]#_weighted_feat.half()\n",
    "    # pixelwise_features[segmentation_pts[specific_views[objidx]], :] = torch.nn.functional.normalize(\n",
    "    #     pixelwise_features[segmentation_pts[specific_views[objidx]], :],\n",
    "    #     dim=-1,\n",
    "    # ).half()\n",
    "\n",
    "# pixelwise_features = torch.nn.functional.normalize(pixelwise_features, dim=-1)\n",
    "print_mem_stats()"
   ]
  },
  {
   "cell_type": "code",
   "execution_count": 11,
   "metadata": {},
   "outputs": [],
   "source": [
    "zero_row_indices = torch.all(pixelwise_features == 0, dim=1)\n",
    "pixelwise_features = pixelwise_features[~zero_row_indices]\n",
    "xyz_pts = xyz_pts[~zero_row_indices.cpu().numpy()]"
   ]
  },
  {
   "cell_type": "code",
   "execution_count": 12,
   "metadata": {},
   "outputs": [
    {
     "name": "stdout",
     "output_type": "stream",
     "text": [
      "mem used gpu: 3210.58 MB, reserved gpu: 6444.00MB -> 14.27% of total, 28.65% reserved\n",
      "mem used cpu: 3534.75 MB -> 7.33% of total\n"
     ]
    }
   ],
   "source": [
    "print_mem_stats()"
   ]
  },
  {
   "cell_type": "code",
   "execution_count": 13,
   "metadata": {},
   "outputs": [
    {
     "name": "stdout",
     "output_type": "stream",
     "text": [
      "mem used gpu: 10.45 MB, reserved gpu: 19244.00MB -> 0.05% of total, 85.56% reserved\n",
      "mem used cpu: 3575.56 MB -> 7.42% of total\n"
     ]
    }
   ],
   "source": [
    "xyz_pts = torch.tensor(xyz_pts)\n",
    "\n",
    "pixelwise_features = pixelwise_features.unsqueeze(0).float()\n",
    "xyz_pts = xyz_pts.unsqueeze(0).float()\n",
    "pixelwise_features = pixelwise_features.permute(0, 2, 1) # 1, PCL, feat_dim -> 1, feat_dim, PCL\n",
    "xyz_pts = xyz_pts.permute(0, 2, 1)\n",
    "pixelwise_features = torch.nn.functional.interpolate(pixelwise_features, [15000], mode=\"nearest\")\n",
    "xyz_pts = torch.nn.functional.interpolate(xyz_pts, [15000], mode=\"nearest\")\n",
    "pixelwise_features = pixelwise_features.permute(0, 2, 1).to(cpu_device)\n",
    "xyz_pts = xyz_pts.permute(0, 2, 1)\n",
    "print_mem_stats()"
   ]
  },
  {
   "cell_type": "code",
   "execution_count": 15,
   "metadata": {},
   "outputs": [
    {
     "name": "stdout",
     "output_type": "stream",
     "text": [
      "mem used gpu: 10.42 MB, reserved gpu: 24.00MB -> 0.05% of total, 0.11% reserved\n",
      "mem used cpu: 3488.62 MB -> 7.24% of total\n"
     ]
    }
   ],
   "source": [
    "mask_sim_mat = None\n",
    "softmax_scores = None\n",
    "feat_per_obj = None\n",
    "scores = None\n",
    "outputs = None\n",
    "obj_sim_per_unit_area = None\n",
    "del mask_sim_mat\n",
    "del softmax_scores\n",
    "del feat_per_obj\n",
    "del scores\n",
    "del outputs\n",
    "del obj_sim_per_unit_area\n",
    "gc.collect()\n",
    "torch.cuda.empty_cache()\n",
    "print_mem_stats()"
   ]
  },
  {
   "cell_type": "code",
   "execution_count": 19,
   "metadata": {},
   "outputs": [
    {
     "name": "stdout",
     "output_type": "stream",
     "text": [
      "mem used gpu: 10.88 MB, reserved gpu: 24.00MB -> 0.05% of total, 0.11% reserved\n",
      "mem used cpu: 19132.82 MB -> 39.70% of total\n"
     ]
    }
   ],
   "source": [
    "ckpt_path = \"checkpoints/pretrain_blip2_sam_flant5xl_v2.pth\"\n",
    "model_cfg = {\n",
    "    \"arch\": \"blip2_t5\",\n",
    "    \"model_type\": \"pretrain_flant5xl\",\n",
    "    \"use_grad_checkpoint\": False,\n",
    "}\n",
    "model_cfg = OmegaConf.create(model_cfg)\n",
    "print_mem_stats()"
   ]
  },
  {
   "cell_type": "code",
   "execution_count": 17,
   "metadata": {},
   "outputs": [
    {
     "data": {
      "application/vnd.jupyter.widget-view+json": {
       "model_id": "09e6d12931e142c3a91753696a5ae1ed",
       "version_major": 2,
       "version_minor": 0
      },
      "text/plain": [
       "Loading checkpoint shards:   0%|          | 0/2 [00:00<?, ?it/s]"
      ]
     },
     "metadata": {},
     "output_type": "display_data"
    },
    {
     "name": "stdout",
     "output_type": "stream",
     "text": [
      "mem used gpu: 10.88 MB, reserved gpu: 24.00MB -> 0.05% of total, 0.11% reserved\n",
      "mem used cpu: 19123.41 MB -> 39.68% of total\n"
     ]
    }
   ],
   "source": [
    "model = registry.get_model_class(\"blip2_t5\").from_pretrained(model_type=\"pretrain_flant5xl\")\n",
    "print_mem_stats()"
   ]
  },
  {
   "cell_type": "code",
   "execution_count": 20,
   "metadata": {},
   "outputs": [
    {
     "name": "stdout",
     "output_type": "stream",
     "text": [
      "mem used gpu: 10.88 MB, reserved gpu: 24.00MB -> 0.05% of total, 0.11% reserved\n",
      "mem used cpu: 23595.22 MB -> 48.96% of total\n"
     ]
    }
   ],
   "source": [
    "checkpoint = torch.load(ckpt_path, map_location=\"cpu\")\n",
    "print_mem_stats()"
   ]
  },
  {
   "cell_type": "code",
   "execution_count": 21,
   "metadata": {},
   "outputs": [
    {
     "name": "stdout",
     "output_type": "stream",
     "text": [
      "mem used gpu: 10.88 MB, reserved gpu: 24.00MB -> 0.05% of total, 0.11% reserved\n",
      "mem used cpu: 23576.14 MB -> 48.92% of total\n"
     ]
    }
   ],
   "source": [
    "model.load_state_dict(checkpoint[\"model\"], strict=False)\n",
    "print_mem_stats()"
   ]
  },
  {
   "cell_type": "code",
   "execution_count": 22,
   "metadata": {},
   "outputs": [
    {
     "name": "stdout",
     "output_type": "stream",
     "text": [
      "mem used gpu: 10.88 MB, reserved gpu: 24.00MB -> 0.05% of total, 0.11% reserved\n",
      "mem used cpu: 23542.71 MB -> 48.85% of total\n"
     ]
    }
   ],
   "source": [
    "model.eval()\n",
    "model.to(cpu_device)\n",
    "print_mem_stats()"
   ]
  },
  {
   "cell_type": "code",
   "execution_count": 23,
   "metadata": {},
   "outputs": [
    {
     "name": "stdout",
     "output_type": "stream",
     "text": [
      "mem used gpu: 10.88 MB, reserved gpu: 24.00MB -> 0.05% of total, 0.11% reserved\n",
      "mem used cpu: 23517.45 MB -> 48.80% of total\n"
     ]
    }
   ],
   "source": [
    "processor_cfg = {\"name\": \"blip_question\", \"prompt\": \"\"}\n",
    "processor_cfg = OmegaConf.create(processor_cfg)\n",
    "text_processor = registry.get_processor_class(processor_cfg.name).from_config(processor_cfg)\n",
    "print_mem_stats()"
   ]
  },
  {
   "cell_type": "code",
   "execution_count": 32,
   "metadata": {},
   "outputs": [
    {
     "ename": "RuntimeError",
     "evalue": "The expanded size of the tensor (15000) must match the existing size (13991) at non-singleton dimension 0.  Target sizes: [15000, 1407].  Tensor sizes: [13991, 1407]",
     "output_type": "error",
     "traceback": [
      "\u001b[0;31m---------------------------------------------------------------------------\u001b[0m",
      "\u001b[0;31mRuntimeError\u001b[0m                              Traceback (most recent call last)",
      "Cell \u001b[0;32mIn[32], line 9\u001b[0m\n\u001b[1;32m      7\u001b[0m model\u001b[38;5;241m.\u001b[39mapply_lemmatizer \u001b[38;5;241m=\u001b[39m \u001b[38;5;28;01mTrue\u001b[39;00m\n\u001b[1;32m      8\u001b[0m model_inputs \u001b[38;5;241m=\u001b[39m {\u001b[38;5;124m\"\u001b[39m\u001b[38;5;124mtext_input\u001b[39m\u001b[38;5;124m\"\u001b[39m: prompt, \u001b[38;5;124m\"\u001b[39m\u001b[38;5;124mpc_feat\u001b[39m\u001b[38;5;124m\"\u001b[39m: outfeat, \u001b[38;5;124m\"\u001b[39m\u001b[38;5;124mpc\u001b[39m\u001b[38;5;124m\"\u001b[39m: xyz_pts}\n\u001b[0;32m----> 9\u001b[0m model_outputs \u001b[38;5;241m=\u001b[39m \u001b[43mmodel\u001b[49m\u001b[38;5;241;43m.\u001b[39;49m\u001b[43mpredict_answers\u001b[49m\u001b[43m(\u001b[49m\n\u001b[1;32m     10\u001b[0m \u001b[43m    \u001b[49m\u001b[43msamples\u001b[49m\u001b[38;5;241;43m=\u001b[39;49m\u001b[43mmodel_inputs\u001b[49m\u001b[43m,\u001b[49m\n\u001b[1;32m     11\u001b[0m \u001b[43m    \u001b[49m\u001b[43mmax_len\u001b[49m\u001b[38;5;241;43m=\u001b[39;49m\u001b[38;5;241;43m50\u001b[39;49m\u001b[43m,\u001b[49m\n\u001b[1;32m     12\u001b[0m \u001b[43m    \u001b[49m\u001b[43mlength_penalty\u001b[49m\u001b[38;5;241;43m=\u001b[39;49m\u001b[38;5;241;43m1.2\u001b[39;49m\u001b[43m,\u001b[49m\n\u001b[1;32m     13\u001b[0m \u001b[43m    \u001b[49m\u001b[43mrepetition_penalty\u001b[49m\u001b[38;5;241;43m=\u001b[39;49m\u001b[38;5;241;43m1.5\u001b[39;49m\u001b[43m,\u001b[49m\n\u001b[1;32m     14\u001b[0m \u001b[43m)\u001b[49m\n\u001b[1;32m     15\u001b[0m model_outputs \u001b[38;5;241m=\u001b[39m model_outputs[\u001b[38;5;241m0\u001b[39m]\n\u001b[1;32m     16\u001b[0m \u001b[38;5;28mprint\u001b[39m(model_outputs)\n",
      "File \u001b[0;32m~/robot-collab/lavis/models/blip2_models/blip2_t5.py:290\u001b[0m, in \u001b[0;36mBlip2T5.predict_answers\u001b[0;34m(self, samples, num_beams, inference_method, max_len, min_len, num_ans_candidates, answer_list, prompt, length_penalty, repetition_penalty, **kwargs)\u001b[0m\n\u001b[1;32m    288\u001b[0m             pcs\u001b[38;5;241m.\u001b[39mappend(\u001b[38;5;28mself\u001b[39m\u001b[38;5;241m.\u001b[39mpos_embedding[pc_i])\n\u001b[1;32m    289\u001b[0m         pcs \u001b[38;5;241m=\u001b[39m torch\u001b[38;5;241m.\u001b[39mcat(pcs, \u001b[38;5;241m-\u001b[39m\u001b[38;5;241m1\u001b[39m)\n\u001b[0;32m--> 290\u001b[0m         \u001b[43mall_pcs\u001b[49m\u001b[43m[\u001b[49m\u001b[43mj\u001b[49m\u001b[43m]\u001b[49m\u001b[43m[\u001b[49m\u001b[43m:\u001b[49m\u001b[43m,\u001b[49m\u001b[43m \u001b[49m\u001b[43m:\u001b[49m\u001b[38;5;241;43m1407\u001b[39;49m\u001b[43m]\u001b[49m \u001b[38;5;241m=\u001b[39m pcs\n\u001b[1;32m    292\u001b[0m pc_embeds \u001b[38;5;241m=\u001b[39m pc_embeds \u001b[38;5;241m+\u001b[39m \u001b[38;5;241m0.01\u001b[39m \u001b[38;5;241m*\u001b[39m all_pcs\n\u001b[1;32m    293\u001b[0m image_atts \u001b[38;5;241m=\u001b[39m torch\u001b[38;5;241m.\u001b[39mones(pc_embeds\u001b[38;5;241m.\u001b[39msize()[:\u001b[38;5;241m-\u001b[39m\u001b[38;5;241m1\u001b[39m], dtype\u001b[38;5;241m=\u001b[39mtorch\u001b[38;5;241m.\u001b[39mlong)\u001b[38;5;241m.\u001b[39mto(pc_embeds\u001b[38;5;241m.\u001b[39mdevice)\n",
      "\u001b[0;31mRuntimeError\u001b[0m: The expanded size of the tensor (15000) must match the existing size (13991) at non-singleton dimension 0.  Target sizes: [15000, 1407].  Tensor sizes: [13991, 1407]"
     ]
    }
   ],
   "source": [
    "# outfeat_downsampled = outfeat_downsampled.to(cpu_device)\n",
    "# xyz_pts_downsampled = xyz_pts_downsampled.to(cpu_device)\n",
    "outfeat = pixelwise_features.to(cpu_device)\n",
    "xyz_pts = xyz_pts.to(cpu_device)\n",
    "prompt = text_processor(\"Describe the 3D scene in one sentence.\")\n",
    "# model_inputs = {\"text_input\": prompt, \"pc_feat\": outfeat_downsampled, \"pc\": xyz_pts_downsampled}\n",
    "model.apply_lemmatizer = True\n",
    "model_inputs = {\"text_input\": prompt, \"pc_feat\": outfeat, \"pc\": xyz_pts}\n",
    "model_outputs = model.predict_answers(\n",
    "    samples=model_inputs,\n",
    "    max_len=50,\n",
    "    length_penalty=1.2,\n",
    "    repetition_penalty=1.5,\n",
    ")\n",
    "model_outputs = model_outputs[0]\n",
    "print(model_outputs)\n",
    "print_mem_stats()"
   ]
  },
  {
   "cell_type": "code",
   "execution_count": 33,
   "metadata": {},
   "outputs": [
    {
     "name": "stdout",
     "output_type": "stream",
     "text": [
      "torch.Size([1, 13991, 3])\n",
      "torch.Size([1, 15000, 1408])\n"
     ]
    }
   ],
   "source": [
    "print(xyz_pts.shape)\n",
    "print(pixelwise_features.shape)"
   ]
  },
  {
   "cell_type": "code",
   "execution_count": 25,
   "metadata": {},
   "outputs": [
    {
     "data": {
      "image/png": "[encoded data removed]",
      "text/plain": [
       "<Figure size 640x480 with 1 Axes>"
      ]
     },
     "metadata": {},
     "output_type": "display_data"
    }
   ],
   "source": [
    "from sklearn.manifold import TSNE\n",
    "import matplotlib.pyplot as plt\n",
    "from mpl_toolkits.mplot3d import Axes3D\n",
    "\n",
    "ax = plt.figure().add_subplot(111, projection=\"3d\")\n",
    "tsne = TSNE(n_components=3, random_state=0, learning_rate=200, init=\"random\")\n",
    "idx = np.random.choice(outfeat.shape[1], 10000)\n",
    "pc_feature = outfeat[:, idx, :]\n",
    "pc_points = xyz_pts[:, idx, :]\n",
    "pc_feature = pc_feature.squeeze(0).cpu().numpy()  # (N, 1408)\n",
    "pc_feature = tsne.fit_transform(pc_feature)  # (N, 3)\n",
    "pc_feature = (pc_feature - pc_feature.min()) / (pc_feature.max() - pc_feature.min() + 1e-6)\n",
    "pc_points = pc_points.squeeze(0).cpu().numpy()  # (N, 3)\n",
    "ax.scatter(pc_points[:, 0], pc_points[:, 1], pc_points[:, 2], c=pc_feature, s=1)\n",
    "ax.set_aspect(\"equal\")\n",
    "ax.set_xticks([])\n",
    "ax.set_yticks([])\n",
    "ax.set_zticks([])\n",
    "plt.show()"
   ]
  },
  {
   "cell_type": "code",
   "execution_count": 31,
   "metadata": {},
   "outputs": [
    {
     "name": "stderr",
     "output_type": "stream",
     "text": [
      "/opt/conda/envs/eval/lib/python3.8/site-packages/transformers/generation/configuration_utils.py:418: UserWarning: `num_beams` is set to 1. However, `length_penalty` is set to `1.2` -- this flag is only used in beam-based generation modes. You should set `num_beams>1` or unset `length_penalty`.\n",
      "  warnings.warn(\n"
     ]
    },
    {
     "name": "stdout",
     "output_type": "stream",
     "text": [
      "<pad> Agent 2: It's a cozy room with white walls and furniture. There are two chairs in the corner, one of which is near an end table</s>\n",
      "mem used gpu: 10.88 MB, reserved gpu: 204.00MB -> 0.05% of total, 0.91% reserved\n",
      "mem used cpu: 24381.20 MB -> 50.59% of total\n"
     ]
    }
   ],
   "source": [
    "alternative_feats = torch.load(\"/home/owenburns88/robot-collab/objaverse scene/scene0480_00.pt\")\n",
    "alternative_pcs = torch.from_numpy(np.load(\"/home/owenburns88/robot-collab/objaverse scene/scene0480_00.npy\"))\n",
    "prompt = text_processor(\"Agent 1: What's the room like??.\")\n",
    "# model_inputs = {\"text_input\": prompt, \"pc_feat\": outfeat_downsampled, \"pc\": xyz_pts_downsampled}\n",
    "model_inputs = {\"text_input\": prompt, \"pc_feat\": alternative_feats.unsqueeze(0), \"pc\": alternative_pcs.long().unsqueeze(0)}\n",
    "model_outputs = model.predict_answers(\n",
    "    samples=model_inputs,\n",
    "    max_len=50,\n",
    "    length_penalty=1.2,\n",
    "    repetition_penalty=1.5,\n",
    ")\n",
    "model_outputs = model_outputs[0]\n",
    "print(model_outputs)\n",
    "print_mem_stats()"
   ]
  },
  {
   "cell_type": "code",
   "execution_count": 30,
   "metadata": {},
   "outputs": [
    {
     "data": {
      "image/png": "[encoded data removed]",
      "text/plain": [
       "<Figure size 640x480 with 1 Axes>"
      ]
     },
     "metadata": {},
     "output_type": "display_data"
    }
   ],
   "source": [
    "from sklearn.manifold import TSNE\n",
    "import matplotlib.pyplot as plt\n",
    "from mpl_toolkits.mplot3d import Axes3D\n",
    "\n",
    "outfeat = alternative_feats.unsqueeze(0)\n",
    "xyz_pts = alternative_pcs.long().unsqueeze(0)\n",
    "\n",
    "ax = plt.figure().add_subplot(111, projection=\"3d\")\n",
    "tsne = TSNE(n_components=3, random_state=0, learning_rate=200, init=\"random\")\n",
    "idx = np.random.choice(outfeat.shape[1], 10000)\n",
    "pc_feature = outfeat[:, idx, :]\n",
    "pc_points = xyz_pts[:, idx, :]\n",
    "pc_feature = pc_feature.squeeze(0).cpu().numpy()  # (N, 1408)\n",
    "pc_feature = tsne.fit_transform(pc_feature)  # (N, 3)\n",
    "pc_feature = (pc_feature - pc_feature.min()) / (pc_feature.max() - pc_feature.min() + 1e-6)\n",
    "pc_points = pc_points.squeeze(0).cpu().numpy()  # (N, 3)\n",
    "ax.scatter(pc_points[:, 0], pc_points[:, 1], pc_points[:, 2], c=pc_feature, s=1)\n",
    "ax.set_aspect(\"equal\")\n",
    "ax.set_xticks([])\n",
    "ax.set_yticks([])\n",
    "ax.set_zticks([])\n",
    "plt.show()"
   ]
  }
 ],
 "metadata": {
  "kernelspec": {
   "display_name": "roco",
   "language": "python",
   "name": "python3"
  },
  "language_info": {
   "codemirror_mode": {
    "name": "ipython",
    "version": 3
   },
   "file_extension": ".py",
   "mimetype": "text/x-python",
   "name": "python",
   "nbconvert_exporter": "python",
   "pygments_lexer": "ipython3",
   "version": "3.8.19"
  }
 },
 "nbformat": 4,
 "nbformat_minor": 2
}
