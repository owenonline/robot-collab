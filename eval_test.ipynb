{
 "cells": [
  {
   "cell_type": "code",
   "execution_count": 1,
   "metadata": {},
   "outputs": [
    {
     "name": "stderr",
     "output_type": "stream",
     "text": [
      "/opt/conda/envs/eval/lib/python3.8/site-packages/transformers/utils/generic.py:311: UserWarning: torch.utils._pytree._register_pytree_node is deprecated. Please use torch.utils._pytree.register_pytree_node instead.\n",
      "  torch.utils._pytree._register_pytree_node(\n",
      "/opt/conda/envs/eval/lib/python3.8/site-packages/transformers/utils/generic.py:311: UserWarning: torch.utils._pytree._register_pytree_node is deprecated. Please use torch.utils._pytree.register_pytree_node instead.\n",
      "  torch.utils._pytree._register_pytree_node(\n"
     ]
    }
   ],
   "source": [
    "import timm\n",
    "import open_clip\n",
    "import os\n",
    "os.environ['PYTORCH_CUDA_ALLOC_CONF'] = 'expandable_segments:True'\n",
    "import torch\n",
    "torch.set_grad_enabled(False)\n",
    "import psutil\n",
    "from lavis.models.eva_vit import create_eva_vit_g\n",
    "from lavis.common.registry import registry\n",
    "from omegaconf import OmegaConf\n",
    "from PIL import Image\n",
    "from tqdm import tqdm\n",
    "import gc\n",
    "import cv2"
   ]
  },
  {
   "cell_type": "code",
   "execution_count": 2,
   "metadata": {},
   "outputs": [
    {
     "name": "stdout",
     "output_type": "stream",
     "text": [
      "mem used gpu: 0.00 MB, reserved gpu: 0.00MB -> 0.00% of total, 0.00% reserved\n",
      "mem used cpu: 13147.88 MB -> 27.28% of total\n"
     ]
    }
   ],
   "source": [
    "def print_mem_stats():\n",
    "    mem = psutil.virtual_memory()\n",
    "    total_system_memory = mem.total / (1024 ** 2)\n",
    "    used_system_memory = mem.used / (1024 ** 2)\n",
    "    total_gpu_memory = torch.cuda.get_device_properties(0).total_memory / (1024 ** 2)\n",
    "    reserved_gpu_memory = torch.cuda.memory_reserved(0) / (1024 ** 2)\n",
    "    allocated_gpu_memory = torch.cuda.memory_allocated(0) / (1024 ** 2)\n",
    "    percent_gpu_total = (allocated_gpu_memory / total_gpu_memory)*100\n",
    "    percent_gpu_reserved = (reserved_gpu_memory / total_gpu_memory)*100\n",
    "    percent_cpu_total = (used_system_memory / total_system_memory)*100\n",
    "    print(f\"mem used gpu: {allocated_gpu_memory:.2f} MB, reserved gpu: {reserved_gpu_memory:.2f}MB -> {percent_gpu_total:.2f}% of total, {percent_gpu_reserved:.2f}% reserved\")\n",
    "    print(f\"mem used cpu: {used_system_memory:.2f} MB -> {percent_cpu_total:.2f}% of total\")\n",
    "\n",
    "print_mem_stats()"
   ]
  },
  {
   "cell_type": "code",
   "execution_count": 3,
   "metadata": {},
   "outputs": [],
   "source": [
    "import pickle\n",
    "with open('outputs.pkl', 'rb') as f:\n",
    "    outputs = pickle.load(f)\n",
    "\n",
    "cpu_device = torch.device('cpu')\n",
    "gpu_device = torch.device('cuda')"
   ]
  },
  {
   "cell_type": "code",
   "execution_count": 5,
   "metadata": {},
   "outputs": [
    {
     "data": {
      "application/vnd.jupyter.widget-view+json": {
       "model_id": "d0f7dea0e2a34f08be3a28609de5c8fa",
       "version_major": 2,
       "version_minor": 0
      },
      "text/plain": [
       "open_clip_model.safetensors:   0%|          | 0.00/2.27G [00:00<?, ?B/s]"
      ]
     },
     "metadata": {},
     "output_type": "display_data"
    },
    {
     "name": "stdout",
     "output_type": "stream",
     "text": [
      "mem used gpu: 3862.94 MB, reserved gpu: 3884.00MB -> 17.18% of total, 17.27% reserved\n",
      "mem used cpu: 17594.56 MB -> 36.51% of total\n"
     ]
    }
   ],
   "source": [
    "# load visual encoder onto cpu for storage\n",
    "visual_encoder = timm.models.eva_giant_patch14_clip_224(pretrained=True).to(gpu_device)\n",
    "# visual_encoder = create_eva_vit_g(512, precision='fp32').to(gpu_device)\n",
    "print_mem_stats()"
   ]
  },
  {
   "cell_type": "code",
   "execution_count": 7,
   "metadata": {},
   "outputs": [
    {
     "name": "stdout",
     "output_type": "stream",
     "text": [
      "(400, 400, 3)\n",
      "mem used gpu: 3872.93 MB, reserved gpu: 3906.00MB -> 17.22% of total, 17.37% reserved\n",
      "mem used cpu: 13801.94 MB -> 28.64% of total\n"
     ]
    }
   ],
   "source": [
    "cosine_similarity = torch.nn.CosineSimilarity(dim=-1)\n",
    "\n",
    "# calculate the global feature vector\n",
    "scene_img = outputs[\"sceneshotcam\"]\n",
    "print(scene_img.shape)\n",
    "scene_img = cv2.resize(scene_img, (224, 224))\n",
    "scene_tensor = torch.tensor(scene_img).permute(2, 0, 1).unsqueeze(0).float().to(gpu_device)\n",
    "\n",
    "# use GPU for this\n",
    "global_feat = visual_encoder.forward_features(scene_tensor)\n",
    "global_feat = global_feat.half()\n",
    "global_feat = global_feat.mean(1)\n",
    "global_feat = torch.nn.functional.normalize(global_feat, dim=-1)\n",
    "FEAT_DIM = global_feat.shape[-1]\n",
    "print_mem_stats()"
   ]
  },
  {
   "cell_type": "code",
   "execution_count": 10,
   "metadata": {},
   "outputs": [
    {
     "name": "stdout",
     "output_type": "stream",
     "text": [
      "global feature shape: torch.Size([1, 1408])\n"
     ]
    }
   ],
   "source": [
    "print(\"global feature shape:\", global_feat.shape)"
   ]
  },
  {
   "cell_type": "code",
   "execution_count": 8,
   "metadata": {},
   "outputs": [
    {
     "name": "stderr",
     "output_type": "stream",
     "text": [
      "100%|██████████| 9/9 [00:00<00:00, 11.43it/s]"
     ]
    },
    {
     "name": "stdout",
     "output_type": "stream",
     "text": [
      "mem used gpu: 3873.53 MB, reserved gpu: 3886.00MB -> 17.22% of total, 17.28% reserved\n",
      "mem used cpu: 13830.04 MB -> 28.70% of total\n"
     ]
    },
    {
     "name": "stderr",
     "output_type": "stream",
     "text": [
      "\n"
     ]
    }
   ],
   "source": [
    "import numpy as np\n",
    "\n",
    "point_feature_cameras = ['sceneshotcam', 'apple', 'milk', 'cereal', 'bread', 'banana', 'bin', 'table', 'ur5e', 'panda']\n",
    "specific_views = list(set(point_feature_cameras) - {\"sceneshotcam\"})\n",
    "feat_per_obj = []\n",
    "obj_sim_per_unit_area = []\n",
    "for view in tqdm(specific_views):\n",
    "    # crop the image to the bounding box and run it through the visual encoder to get the feature vector for the object\n",
    "    obj_img = outputs[view]\n",
    "    obj_img = cv2.resize(obj_img, (224, 224))\n",
    "    # obj_img = np.array(Image.open(f\"rocobench/test_images/{view}.png\").resize((400, 400)))\n",
    "    img_roi = torch.tensor(obj_img).permute(2, 0, 1).unsqueeze(0).float().to(gpu_device)\n",
    "    roifeat = visual_encoder.forward_features(img_roi)\n",
    "    roifeat = roifeat.half().cuda()\n",
    "    roifeat = roifeat.mean(1)\n",
    "    roifeat = torch.nn.functional.normalize(roifeat, dim=-1)\n",
    "    feat_per_obj.append(roifeat)\n",
    "\n",
    "    # calculate the cosine similarity between the global feature vector and the feature vector for the object and save that as well\n",
    "    _sim = cosine_similarity(global_feat, roifeat)\n",
    "    obj_sim_per_unit_area.append(_sim)\n",
    "\n",
    "    torch.cuda.empty_cache()\n",
    "\n",
    "visual_encoder = None\n",
    "del visual_encoder\n",
    "gc.collect()\n",
    "torch.cuda.empty_cache()\n",
    "\n",
    "print_mem_stats()"
   ]
  },
  {
   "cell_type": "code",
   "execution_count": null,
   "metadata": {},
   "outputs": [],
   "source": [
    "print(\"global feature shape:\", global_feat.shape)"
   ]
  },
  {
   "cell_type": "code",
   "execution_count": 9,
   "metadata": {},
   "outputs": [
    {
     "name": "stdout",
     "output_type": "stream",
     "text": [
      "tensor([[1.0000, 0.9282, 0.9785, 0.9321, 0.9761, 0.9771, 0.9873, 0.9644, 0.9707],\n",
      "        [0.9282, 1.0010, 0.8955, 0.9800, 0.9033, 0.8828, 0.9043, 0.8975, 0.8784],\n",
      "        [0.9785, 0.8955, 0.9995, 0.8940, 0.9717, 0.9956, 0.9932, 0.9526, 0.9937],\n",
      "        [0.9321, 0.9800, 0.8940, 1.0000, 0.8965, 0.8823, 0.9048, 0.8823, 0.8770],\n",
      "        [0.9761, 0.9033, 0.9717, 0.8965, 1.0000, 0.9771, 0.9824, 0.9824, 0.9722],\n",
      "        [0.9771, 0.8828, 0.9956, 0.8823, 0.9771, 1.0010, 0.9927, 0.9536, 0.9956],\n",
      "        [0.9873, 0.9043, 0.9932, 0.9048, 0.9824, 0.9927, 1.0010, 0.9688, 0.9907],\n",
      "        [0.9644, 0.8975, 0.9526, 0.8823, 0.9824, 0.9536, 0.9688, 0.9995, 0.9487],\n",
      "        [0.9707, 0.8784, 0.9937, 0.8770, 0.9722, 0.9956, 0.9907, 0.9487, 1.0000]],\n",
      "       device='cuda:0', dtype=torch.float16)\n",
      "mem used gpu: 3873.54 MB, reserved gpu: 3886.00MB -> 17.22% of total, 17.28% reserved\n",
      "mem used cpu: 13840.43 MB -> 28.72% of total\n",
      "['apple', 'panda', 'bin', 'ur5e', 'bread', 'banana', 'milk', 'cereal', 'table']\n",
      "tensor([0.1119, 0.1177, 0.1096, 0.1190, 0.1079, 0.1086, 0.1095, 0.1074, 0.1085],\n",
      "       device='cuda:0', dtype=torch.float16)\n"
     ]
    }
   ],
   "source": [
    "scores = torch.cat(obj_sim_per_unit_area).to(gpu_device)\n",
    "feat_per_obj = torch.cat(feat_per_obj, dim=0).to(gpu_device)\n",
    "# norm_feat_per_obj = torch.nn.functional.normalize(feat_per_obj, p=2, dim=1)\n",
    "\n",
    "# get the cosine simixlarity between the features of each object. This will be a square matrix where the (i, j)th entry is the cosine similarity between the ith and jth objects\n",
    "mask_sim_mat = torch.nn.functional.cosine_similarity(\n",
    "    feat_per_obj[:, :, None], feat_per_obj.t()[None, :, :]\n",
    ")\n",
    "print(mask_sim_mat)\n",
    "mask_sim_mat.fill_diagonal_(0.0) # set the diagonal to 0 because we don't want to consider the similarity between the same object\n",
    "mask_sim_mat = mask_sim_mat.mean(1)  # avg sim of each mask with each other mask\n",
    "softmax_scores = scores.cuda() - mask_sim_mat # subtracting the object-object relevance (which can be thought of as the relevance of the object in context of the other objects) object-scene similarity (which is kind of like global relevance) gives how much more or less important that object is than all the other objects\n",
    "softmax_scores = torch.nn.functional.softmax(softmax_scores, dim=0) # apply softmax to get the final scores\n",
    "print_mem_stats()\n",
    "\n",
    "print(specific_views)\n",
    "print(softmax_scores)"
   ]
  },
  {
   "cell_type": "code",
   "execution_count": 9,
   "metadata": {},
   "outputs": [
    {
     "name": "stdout",
     "output_type": "stream",
     "text": [
      "torch.Size([9])\n"
     ]
    }
   ],
   "source": [
    "print(feat_per_obj.shape)"
   ]
  },
  {
   "cell_type": "code",
   "execution_count": 10,
   "metadata": {},
   "outputs": [
    {
     "name": "stdout",
     "output_type": "stream",
     "text": [
      "torch.Size([1195306, 1408])\n",
      "mem used gpu: 3873.54 MB, reserved gpu: 3886.00MB -> 17.22% of total, 17.28% reserved\n",
      "mem used cpu: 17049.28 MB -> 35.38% of total\n"
     ]
    }
   ],
   "source": [
    "xyz_pts = outputs['xyz_pts']\n",
    "segmentation_pts = outputs['segmentation_pts']\n",
    "\n",
    "pixelwise_features = torch.zeros(xyz_pts.shape[0], FEAT_DIM, dtype=torch.half)#global_feat.repeat((xyz_pts.shape[0], 1))\n",
    "print(pixelwise_features.shape)#torch.zeros(xyz_pts.shape[0], FEAT_DIM, dtype=torch.half)\n",
    "print_mem_stats()"
   ]
  },
  {
   "cell_type": "code",
   "execution_count": 11,
   "metadata": {},
   "outputs": [
    {
     "name": "stdout",
     "output_type": "stream",
     "text": [
      "mem used gpu: 7083.59 MB, reserved gpu: 7106.00MB -> 31.49% of total, 31.59% reserved\n",
      "mem used cpu: 13801.87 MB -> 28.64% of total\n"
     ]
    }
   ],
   "source": [
    "pixelwise_features = pixelwise_features.to(gpu_device)\n",
    "for objidx in range(len(specific_views)):\n",
    "    _weighted_feat = (\n",
    "        softmax_scores[objidx] * global_feat + (1 - softmax_scores[objidx]) * feat_per_obj[objidx]\n",
    "    )\n",
    "    _weighted_feat = torch.nn.functional.normalize(_weighted_feat, dim=-1)\n",
    "    pixelwise_features[segmentation_pts[specific_views[objidx]], :] = feat_per_obj[objidx]#_weighted_feat.half()\n",
    "    # pixelwise_features[segmentation_pts[specific_views[objidx]], :] = torch.nn.functional.normalize(\n",
    "    #     pixelwise_features[segmentation_pts[specific_views[objidx]], :],\n",
    "    #     dim=-1,\n",
    "    # ).half()\n",
    "\n",
    "# pixelwise_features = torch.nn.functional.normalize(pixelwise_features, dim=-1)\n",
    "print_mem_stats()"
   ]
  },
  {
   "cell_type": "code",
   "execution_count": 12,
   "metadata": {},
   "outputs": [],
   "source": [
    "zero_row_indices = torch.all(pixelwise_features == 0, dim=1)\n",
    "pixelwise_features = pixelwise_features[~zero_row_indices]\n",
    "xyz_pts = xyz_pts[~zero_row_indices.cpu().numpy()]"
   ]
  },
  {
   "cell_type": "code",
   "execution_count": 16,
   "metadata": {},
   "outputs": [
    {
     "name": "stdout",
     "output_type": "stream",
     "text": [
      "torch.Size([1191610, 1408])\n",
      "(1191610, 3)\n"
     ]
    }
   ],
   "source": [
    "print(pixelwise_features.shape)\n",
    "print(xyz_pts.shape)"
   ]
  },
  {
   "cell_type": "code",
   "execution_count": 17,
   "metadata": {},
   "outputs": [
    {
     "ename": "OutOfMemoryError",
     "evalue": "CUDA out of memory. Tried to allocate 6.25 GiB. GPU ",
     "output_type": "error",
     "traceback": [
      "\u001b[0;31m---------------------------------------------------------------------------\u001b[0m",
      "\u001b[0;31mOutOfMemoryError\u001b[0m                          Traceback (most recent call last)",
      "Cell \u001b[0;32mIn[17], line 7\u001b[0m\n\u001b[1;32m      5\u001b[0m pixelwise_features \u001b[38;5;241m=\u001b[39m pixelwise_features\u001b[38;5;241m.\u001b[39mpermute(\u001b[38;5;241m0\u001b[39m, \u001b[38;5;241m2\u001b[39m, \u001b[38;5;241m1\u001b[39m) \u001b[38;5;66;03m# 1, PCL, feat_dim -> 1, feat_dim, PCL\u001b[39;00m\n\u001b[1;32m      6\u001b[0m xyz_pts \u001b[38;5;241m=\u001b[39m xyz_pts\u001b[38;5;241m.\u001b[39mpermute(\u001b[38;5;241m0\u001b[39m, \u001b[38;5;241m2\u001b[39m, \u001b[38;5;241m1\u001b[39m)\n\u001b[0;32m----> 7\u001b[0m pixelwise_features \u001b[38;5;241m=\u001b[39m \u001b[43mtorch\u001b[49m\u001b[38;5;241;43m.\u001b[39;49m\u001b[43mnn\u001b[49m\u001b[38;5;241;43m.\u001b[39;49m\u001b[43mfunctional\u001b[49m\u001b[38;5;241;43m.\u001b[39;49m\u001b[43minterpolate\u001b[49m\u001b[43m(\u001b[49m\u001b[43mpixelwise_features\u001b[49m\u001b[43m,\u001b[49m\u001b[43m \u001b[49m\u001b[43m[\u001b[49m\u001b[38;5;241;43m15000\u001b[39;49m\u001b[43m]\u001b[49m\u001b[43m,\u001b[49m\u001b[43m \u001b[49m\u001b[43mmode\u001b[49m\u001b[38;5;241;43m=\u001b[39;49m\u001b[38;5;124;43m\"\u001b[39;49m\u001b[38;5;124;43mnearest\u001b[39;49m\u001b[38;5;124;43m\"\u001b[39;49m\u001b[43m)\u001b[49m\n\u001b[1;32m      8\u001b[0m xyz_pts \u001b[38;5;241m=\u001b[39m torch\u001b[38;5;241m.\u001b[39mnn\u001b[38;5;241m.\u001b[39mfunctional\u001b[38;5;241m.\u001b[39minterpolate(xyz_pts, [\u001b[38;5;241m15000\u001b[39m], mode\u001b[38;5;241m=\u001b[39m\u001b[38;5;124m'\u001b[39m\u001b[38;5;124mnearest-exact\u001b[39m\u001b[38;5;124m'\u001b[39m)\n\u001b[1;32m      9\u001b[0m pixelwise_features \u001b[38;5;241m=\u001b[39m pixelwise_features\u001b[38;5;241m.\u001b[39mpermute(\u001b[38;5;241m0\u001b[39m, \u001b[38;5;241m2\u001b[39m, \u001b[38;5;241m1\u001b[39m)\u001b[38;5;241m.\u001b[39mto(cpu_device)\n",
      "File \u001b[0;32m/opt/conda/envs/eval/lib/python3.8/site-packages/torch/nn/functional.py:4026\u001b[0m, in \u001b[0;36minterpolate\u001b[0;34m(input, size, scale_factor, mode, align_corners, recompute_scale_factor, antialias)\u001b[0m\n\u001b[1;32m   4023\u001b[0m     \u001b[38;5;28;01mraise\u001b[39;00m \u001b[38;5;167;01mValueError\u001b[39;00m(\u001b[38;5;124m\"\u001b[39m\u001b[38;5;124mAnti-alias option is restricted to bilinear and bicubic modes and requires a 4-D tensor as input\u001b[39m\u001b[38;5;124m\"\u001b[39m)\n\u001b[1;32m   4025\u001b[0m \u001b[38;5;28;01mif\u001b[39;00m \u001b[38;5;28minput\u001b[39m\u001b[38;5;241m.\u001b[39mdim() \u001b[38;5;241m==\u001b[39m \u001b[38;5;241m3\u001b[39m \u001b[38;5;129;01mand\u001b[39;00m mode \u001b[38;5;241m==\u001b[39m \u001b[38;5;124m\"\u001b[39m\u001b[38;5;124mnearest\u001b[39m\u001b[38;5;124m\"\u001b[39m:\n\u001b[0;32m-> 4026\u001b[0m     \u001b[38;5;28;01mreturn\u001b[39;00m \u001b[43mtorch\u001b[49m\u001b[38;5;241;43m.\u001b[39;49m\u001b[43m_C\u001b[49m\u001b[38;5;241;43m.\u001b[39;49m\u001b[43m_nn\u001b[49m\u001b[38;5;241;43m.\u001b[39;49m\u001b[43mupsample_nearest1d\u001b[49m\u001b[43m(\u001b[49m\u001b[38;5;28;43minput\u001b[39;49m\u001b[43m,\u001b[49m\u001b[43m \u001b[49m\u001b[43moutput_size\u001b[49m\u001b[43m,\u001b[49m\u001b[43m \u001b[49m\u001b[43mscale_factors\u001b[49m\u001b[43m)\u001b[49m\n\u001b[1;32m   4027\u001b[0m \u001b[38;5;28;01mif\u001b[39;00m \u001b[38;5;28minput\u001b[39m\u001b[38;5;241m.\u001b[39mdim() \u001b[38;5;241m==\u001b[39m \u001b[38;5;241m4\u001b[39m \u001b[38;5;129;01mand\u001b[39;00m mode \u001b[38;5;241m==\u001b[39m \u001b[38;5;124m\"\u001b[39m\u001b[38;5;124mnearest\u001b[39m\u001b[38;5;124m\"\u001b[39m:\n\u001b[1;32m   4028\u001b[0m     \u001b[38;5;28;01mreturn\u001b[39;00m torch\u001b[38;5;241m.\u001b[39m_C\u001b[38;5;241m.\u001b[39m_nn\u001b[38;5;241m.\u001b[39mupsample_nearest2d(\u001b[38;5;28minput\u001b[39m, output_size, scale_factors)\n",
      "\u001b[0;31mOutOfMemoryError\u001b[0m: CUDA out of memory. Tried to allocate 6.25 GiB. GPU "
     ]
    }
   ],
   "source": [
    "xyz_pts = torch.tensor(xyz_pts)\n",
    "\n",
    "pixelwise_features = pixelwise_features.unsqueeze(0).float()\n",
    "xyz_pts = xyz_pts.unsqueeze(0).float()\n",
    "pixelwise_features = pixelwise_features.permute(0, 2, 1) # 1, PCL, feat_dim -> 1, feat_dim, PCL\n",
    "xyz_pts = xyz_pts.permute(0, 2, 1)\n",
    "pixelwise_features = torch.nn.functional.interpolate(pixelwise_features, [15000], mode=\"nearest\")\n",
    "xyz_pts = torch.nn.functional.interpolate(xyz_pts, [15000], mode=\"nearest\")\n",
    "pixelwise_features = pixelwise_features.permute(0, 2, 1).to(cpu_device)\n",
    "xyz_pts = xyz_pts.permute(0, 2, 1)\n",
    "print_mem_stats()"
   ]
  },
  {
   "cell_type": "code",
   "execution_count": null,
   "metadata": {},
   "outputs": [
    {
     "name": "stdout",
     "output_type": "stream",
     "text": [
      "mem used gpu: 12.94 MB, reserved gpu: 42.00MB -> 0.06% of total, 0.19% reserved\n",
      "mem used cpu: 4667.71 MB -> 9.69% of total\n"
     ]
    }
   ],
   "source": [
    "visual_encoder = None\n",
    "pixelwise_features = None\n",
    "mask_sim_mat = None\n",
    "softmax_scores = None\n",
    "feat_per_obj = None\n",
    "scores = None\n",
    "outputs = None\n",
    "obj_sim_per_unit_area = None\n",
    "del visual_encoder\n",
    "del pixelwise_features\n",
    "del mask_sim_mat\n",
    "del softmax_scores\n",
    "del feat_per_obj\n",
    "del scores\n",
    "del outputs\n",
    "del obj_sim_per_unit_area\n",
    "gc.collect()\n",
    "torch.cuda.empty_cache()\n",
    "print_mem_stats()"
   ]
  },
  {
   "cell_type": "code",
   "execution_count": null,
   "metadata": {},
   "outputs": [
    {
     "name": "stdout",
     "output_type": "stream",
     "text": [
      "mem used gpu: 12.94 MB, reserved gpu: 42.00MB -> 0.06% of total, 0.19% reserved\n",
      "mem used cpu: 4668.45 MB -> 9.69% of total\n"
     ]
    }
   ],
   "source": [
    "ckpt_path = \"checkpoints/pretrain_v2.1.pth\"#sqa3d.pth\"#pretrain_v2.1.pth\"\n",
    "model_cfg = {\n",
    "    \"arch\": \"blip2_t5\",\n",
    "    \"model_type\": \"pretrain_flant5xl\",\n",
    "    \"use_grad_checkpoint\": False,\n",
    "}\n",
    "model_cfg = OmegaConf.create(model_cfg)\n",
    "print_mem_stats()"
   ]
  },
  {
   "cell_type": "code",
   "execution_count": 1,
   "metadata": {},
   "outputs": [
    {
     "name": "stderr",
     "output_type": "stream",
     "text": [
      "/opt/conda/envs/eval/lib/python3.8/site-packages/transformers/utils/generic.py:311: UserWarning: torch.utils._pytree._register_pytree_node is deprecated. Please use torch.utils._pytree.register_pytree_node instead.\n",
      "  torch.utils._pytree._register_pytree_node(\n"
     ]
    },
    {
     "ename": "RuntimeError",
     "evalue": "Please `pip install timm` to use timm models.",
     "output_type": "error",
     "traceback": [
      "\u001b[0;31m---------------------------------------------------------------------------\u001b[0m",
      "\u001b[0;31mRuntimeError\u001b[0m                              Traceback (most recent call last)",
      "Cell \u001b[0;32mIn[1], line 5\u001b[0m\n\u001b[1;32m      3\u001b[0m \u001b[38;5;28;01mimport\u001b[39;00m \u001b[38;5;21;01mopen_clip\u001b[39;00m\n\u001b[1;32m      4\u001b[0m open_clip\u001b[38;5;241m.\u001b[39mlist_pretrained()\n\u001b[0;32m----> 5\u001b[0m model, _, preprocess \u001b[38;5;241m=\u001b[39m \u001b[43mopen_clip\u001b[49m\u001b[38;5;241;43m.\u001b[39;49m\u001b[43mcreate_model_from_pretrained\u001b[49m\u001b[43m(\u001b[49m\u001b[38;5;124;43m\"\u001b[39;49m\u001b[38;5;124;43mEVA01-g-14\u001b[39;49m\u001b[38;5;124;43m\"\u001b[39;49m\u001b[43m,\u001b[49m\u001b[43m \u001b[49m\u001b[38;5;124;43m'\u001b[39;49m\u001b[38;5;124;43mlaion400m_s11b_b41k\u001b[39;49m\u001b[38;5;124;43m'\u001b[39;49m\u001b[43m)\u001b[49m\n\u001b[1;32m      6\u001b[0m tokenizer \u001b[38;5;241m=\u001b[39m open_clip\u001b[38;5;241m.\u001b[39mget_tokenizer(\u001b[38;5;124m\"\u001b[39m\u001b[38;5;124mEVA01-g-14\u001b[39m\u001b[38;5;124m\"\u001b[39m)\n",
      "File \u001b[0;32m/opt/conda/envs/eval/lib/python3.8/site-packages/open_clip/factory.py:437\u001b[0m, in \u001b[0;36mcreate_model_from_pretrained\u001b[0;34m(model_name, pretrained, precision, device, jit, force_quick_gelu, force_custom_text, force_image_size, image_mean, image_std, image_interpolation, image_resize_mode, return_transform, cache_dir, **model_kwargs)\u001b[0m\n\u001b[1;32m    417\u001b[0m \u001b[38;5;28;01mdef\u001b[39;00m \u001b[38;5;21mcreate_model_from_pretrained\u001b[39m(\n\u001b[1;32m    418\u001b[0m         model_name: \u001b[38;5;28mstr\u001b[39m,\n\u001b[1;32m    419\u001b[0m         pretrained: Optional[\u001b[38;5;28mstr\u001b[39m] \u001b[38;5;241m=\u001b[39m \u001b[38;5;28;01mNone\u001b[39;00m,\n\u001b[0;32m   (...)\u001b[0m\n\u001b[1;32m    432\u001b[0m         \u001b[38;5;241m*\u001b[39m\u001b[38;5;241m*\u001b[39mmodel_kwargs,\n\u001b[1;32m    433\u001b[0m ):\n\u001b[1;32m    434\u001b[0m     force_preprocess_cfg \u001b[38;5;241m=\u001b[39m merge_preprocess_kwargs(\n\u001b[1;32m    435\u001b[0m         {}, mean\u001b[38;5;241m=\u001b[39mimage_mean, std\u001b[38;5;241m=\u001b[39mimage_std, interpolation\u001b[38;5;241m=\u001b[39mimage_interpolation, resize_mode\u001b[38;5;241m=\u001b[39mimage_resize_mode)\n\u001b[0;32m--> 437\u001b[0m     model \u001b[38;5;241m=\u001b[39m \u001b[43mcreate_model\u001b[49m\u001b[43m(\u001b[49m\n\u001b[1;32m    438\u001b[0m \u001b[43m        \u001b[49m\u001b[43mmodel_name\u001b[49m\u001b[43m,\u001b[49m\n\u001b[1;32m    439\u001b[0m \u001b[43m        \u001b[49m\u001b[43mpretrained\u001b[49m\u001b[43m,\u001b[49m\n\u001b[1;32m    440\u001b[0m \u001b[43m        \u001b[49m\u001b[43mprecision\u001b[49m\u001b[38;5;241;43m=\u001b[39;49m\u001b[43mprecision\u001b[49m\u001b[43m,\u001b[49m\n\u001b[1;32m    441\u001b[0m \u001b[43m        \u001b[49m\u001b[43mdevice\u001b[49m\u001b[38;5;241;43m=\u001b[39;49m\u001b[43mdevice\u001b[49m\u001b[43m,\u001b[49m\n\u001b[1;32m    442\u001b[0m \u001b[43m        \u001b[49m\u001b[43mjit\u001b[49m\u001b[38;5;241;43m=\u001b[39;49m\u001b[43mjit\u001b[49m\u001b[43m,\u001b[49m\n\u001b[1;32m    443\u001b[0m \u001b[43m        \u001b[49m\u001b[43mforce_quick_gelu\u001b[49m\u001b[38;5;241;43m=\u001b[39;49m\u001b[43mforce_quick_gelu\u001b[49m\u001b[43m,\u001b[49m\n\u001b[1;32m    444\u001b[0m \u001b[43m        \u001b[49m\u001b[43mforce_custom_text\u001b[49m\u001b[38;5;241;43m=\u001b[39;49m\u001b[43mforce_custom_text\u001b[49m\u001b[43m,\u001b[49m\n\u001b[1;32m    445\u001b[0m \u001b[43m        \u001b[49m\u001b[43mforce_image_size\u001b[49m\u001b[38;5;241;43m=\u001b[39;49m\u001b[43mforce_image_size\u001b[49m\u001b[43m,\u001b[49m\n\u001b[1;32m    446\u001b[0m \u001b[43m        \u001b[49m\u001b[43mforce_preprocess_cfg\u001b[49m\u001b[38;5;241;43m=\u001b[39;49m\u001b[43mforce_preprocess_cfg\u001b[49m\u001b[43m,\u001b[49m\n\u001b[1;32m    447\u001b[0m \u001b[43m        \u001b[49m\u001b[43mcache_dir\u001b[49m\u001b[38;5;241;43m=\u001b[39;49m\u001b[43mcache_dir\u001b[49m\u001b[43m,\u001b[49m\n\u001b[1;32m    448\u001b[0m \u001b[43m        \u001b[49m\u001b[43mrequire_pretrained\u001b[49m\u001b[38;5;241;43m=\u001b[39;49m\u001b[38;5;28;43;01mTrue\u001b[39;49;00m\u001b[43m,\u001b[49m\n\u001b[1;32m    449\u001b[0m \u001b[43m        \u001b[49m\u001b[38;5;241;43m*\u001b[39;49m\u001b[38;5;241;43m*\u001b[39;49m\u001b[43mmodel_kwargs\u001b[49m\u001b[43m,\u001b[49m\n\u001b[1;32m    450\u001b[0m \u001b[43m    \u001b[49m\u001b[43m)\u001b[49m\n\u001b[1;32m    452\u001b[0m     \u001b[38;5;28;01mif\u001b[39;00m \u001b[38;5;129;01mnot\u001b[39;00m return_transform:\n\u001b[1;32m    453\u001b[0m         \u001b[38;5;28;01mreturn\u001b[39;00m model\n",
      "File \u001b[0;32m/opt/conda/envs/eval/lib/python3.8/site-packages/open_clip/factory.py:250\u001b[0m, in \u001b[0;36mcreate_model\u001b[0;34m(model_name, pretrained, precision, device, jit, force_quick_gelu, force_custom_text, force_patch_dropout, force_image_size, force_preprocess_cfg, pretrained_image, pretrained_hf, cache_dir, output_dict, require_pretrained, **model_kwargs)\u001b[0m\n\u001b[1;32m    248\u001b[0m         model \u001b[38;5;241m=\u001b[39m CoCa(\u001b[38;5;241m*\u001b[39m\u001b[38;5;241m*\u001b[39mmodel_cfg, cast_dtype\u001b[38;5;241m=\u001b[39mcast_dtype)\n\u001b[1;32m    249\u001b[0m     \u001b[38;5;28;01melse\u001b[39;00m:\n\u001b[0;32m--> 250\u001b[0m         model \u001b[38;5;241m=\u001b[39m \u001b[43mCustomTextCLIP\u001b[49m\u001b[43m(\u001b[49m\u001b[38;5;241;43m*\u001b[39;49m\u001b[38;5;241;43m*\u001b[39;49m\u001b[43mmodel_cfg\u001b[49m\u001b[43m,\u001b[49m\u001b[43m \u001b[49m\u001b[43mcast_dtype\u001b[49m\u001b[38;5;241;43m=\u001b[39;49m\u001b[43mcast_dtype\u001b[49m\u001b[43m)\u001b[49m\n\u001b[1;32m    251\u001b[0m \u001b[38;5;28;01melse\u001b[39;00m:\n\u001b[1;32m    252\u001b[0m     model \u001b[38;5;241m=\u001b[39m CLIP(\u001b[38;5;241m*\u001b[39m\u001b[38;5;241m*\u001b[39mmodel_cfg, cast_dtype\u001b[38;5;241m=\u001b[39mcast_dtype)\n",
      "File \u001b[0;32m/opt/conda/envs/eval/lib/python3.8/site-packages/open_clip/model.py:336\u001b[0m, in \u001b[0;36mCustomTextCLIP.__init__\u001b[0;34m(self, embed_dim, vision_cfg, text_cfg, quick_gelu, init_logit_scale, init_logit_bias, cast_dtype, output_dict)\u001b[0m\n\u001b[1;32m    334\u001b[0m \u001b[38;5;28msuper\u001b[39m()\u001b[38;5;241m.\u001b[39m\u001b[38;5;21m__init__\u001b[39m()\n\u001b[1;32m    335\u001b[0m \u001b[38;5;28mself\u001b[39m\u001b[38;5;241m.\u001b[39moutput_dict \u001b[38;5;241m=\u001b[39m output_dict\n\u001b[0;32m--> 336\u001b[0m \u001b[38;5;28mself\u001b[39m\u001b[38;5;241m.\u001b[39mvisual \u001b[38;5;241m=\u001b[39m \u001b[43m_build_vision_tower\u001b[49m\u001b[43m(\u001b[49m\u001b[43membed_dim\u001b[49m\u001b[43m,\u001b[49m\u001b[43m \u001b[49m\u001b[43mvision_cfg\u001b[49m\u001b[43m,\u001b[49m\u001b[43m \u001b[49m\u001b[43mquick_gelu\u001b[49m\u001b[43m,\u001b[49m\u001b[43m \u001b[49m\u001b[43mcast_dtype\u001b[49m\u001b[43m)\u001b[49m\n\u001b[1;32m    337\u001b[0m \u001b[38;5;28mself\u001b[39m\u001b[38;5;241m.\u001b[39mtext \u001b[38;5;241m=\u001b[39m _build_text_tower(embed_dim, text_cfg, quick_gelu, cast_dtype)\n\u001b[1;32m    338\u001b[0m \u001b[38;5;28mself\u001b[39m\u001b[38;5;241m.\u001b[39mcontext_length \u001b[38;5;241m=\u001b[39m \u001b[38;5;28mself\u001b[39m\u001b[38;5;241m.\u001b[39mtext\u001b[38;5;241m.\u001b[39mcontext_length\n",
      "File \u001b[0;32m/opt/conda/envs/eval/lib/python3.8/site-packages/open_clip/model.py:119\u001b[0m, in \u001b[0;36m_build_vision_tower\u001b[0;34m(embed_dim, vision_cfg, quick_gelu, cast_dtype)\u001b[0m\n\u001b[1;32m    116\u001b[0m act_layer \u001b[38;5;241m=\u001b[39m QuickGELU \u001b[38;5;28;01mif\u001b[39;00m quick_gelu \u001b[38;5;28;01melse\u001b[39;00m nn\u001b[38;5;241m.\u001b[39mGELU\n\u001b[1;32m    118\u001b[0m \u001b[38;5;28;01mif\u001b[39;00m vision_cfg\u001b[38;5;241m.\u001b[39mtimm_model_name:\n\u001b[0;32m--> 119\u001b[0m     visual \u001b[38;5;241m=\u001b[39m \u001b[43mTimmModel\u001b[49m\u001b[43m(\u001b[49m\n\u001b[1;32m    120\u001b[0m \u001b[43m        \u001b[49m\u001b[43mvision_cfg\u001b[49m\u001b[38;5;241;43m.\u001b[39;49m\u001b[43mtimm_model_name\u001b[49m\u001b[43m,\u001b[49m\n\u001b[1;32m    121\u001b[0m \u001b[43m        \u001b[49m\u001b[43mpretrained\u001b[49m\u001b[38;5;241;43m=\u001b[39;49m\u001b[43mvision_cfg\u001b[49m\u001b[38;5;241;43m.\u001b[39;49m\u001b[43mtimm_model_pretrained\u001b[49m\u001b[43m,\u001b[49m\n\u001b[1;32m    122\u001b[0m \u001b[43m        \u001b[49m\u001b[43mpool\u001b[49m\u001b[38;5;241;43m=\u001b[39;49m\u001b[43mvision_cfg\u001b[49m\u001b[38;5;241;43m.\u001b[39;49m\u001b[43mtimm_pool\u001b[49m\u001b[43m,\u001b[49m\n\u001b[1;32m    123\u001b[0m \u001b[43m        \u001b[49m\u001b[43mproj\u001b[49m\u001b[38;5;241;43m=\u001b[39;49m\u001b[43mvision_cfg\u001b[49m\u001b[38;5;241;43m.\u001b[39;49m\u001b[43mtimm_proj\u001b[49m\u001b[43m,\u001b[49m\n\u001b[1;32m    124\u001b[0m \u001b[43m        \u001b[49m\u001b[43mproj_bias\u001b[49m\u001b[38;5;241;43m=\u001b[39;49m\u001b[43mvision_cfg\u001b[49m\u001b[38;5;241;43m.\u001b[39;49m\u001b[43mtimm_proj_bias\u001b[49m\u001b[43m,\u001b[49m\n\u001b[1;32m    125\u001b[0m \u001b[43m        \u001b[49m\u001b[43mdrop\u001b[49m\u001b[38;5;241;43m=\u001b[39;49m\u001b[43mvision_cfg\u001b[49m\u001b[38;5;241;43m.\u001b[39;49m\u001b[43mtimm_drop\u001b[49m\u001b[43m,\u001b[49m\n\u001b[1;32m    126\u001b[0m \u001b[43m        \u001b[49m\u001b[43mdrop_path\u001b[49m\u001b[38;5;241;43m=\u001b[39;49m\u001b[43mvision_cfg\u001b[49m\u001b[38;5;241;43m.\u001b[39;49m\u001b[43mtimm_drop_path\u001b[49m\u001b[43m,\u001b[49m\n\u001b[1;32m    127\u001b[0m \u001b[43m        \u001b[49m\u001b[43mpatch_drop\u001b[49m\u001b[38;5;241;43m=\u001b[39;49m\u001b[43mvision_cfg\u001b[49m\u001b[38;5;241;43m.\u001b[39;49m\u001b[43mpatch_dropout\u001b[49m\u001b[43m \u001b[49m\u001b[38;5;28;43;01mif\u001b[39;49;00m\u001b[43m \u001b[49m\u001b[43mvision_cfg\u001b[49m\u001b[38;5;241;43m.\u001b[39;49m\u001b[43mpatch_dropout\u001b[49m\u001b[43m \u001b[49m\u001b[38;5;241;43m>\u001b[39;49m\u001b[43m \u001b[49m\u001b[38;5;241;43m0\u001b[39;49m\u001b[43m \u001b[49m\u001b[38;5;28;43;01melse\u001b[39;49;00m\u001b[43m \u001b[49m\u001b[38;5;28;43;01mNone\u001b[39;49;00m\u001b[43m,\u001b[49m\n\u001b[1;32m    128\u001b[0m \u001b[43m        \u001b[49m\u001b[43membed_dim\u001b[49m\u001b[38;5;241;43m=\u001b[39;49m\u001b[43membed_dim\u001b[49m\u001b[43m,\u001b[49m\n\u001b[1;32m    129\u001b[0m \u001b[43m        \u001b[49m\u001b[43mimage_size\u001b[49m\u001b[38;5;241;43m=\u001b[39;49m\u001b[43mvision_cfg\u001b[49m\u001b[38;5;241;43m.\u001b[39;49m\u001b[43mimage_size\u001b[49m\u001b[43m,\u001b[49m\n\u001b[1;32m    130\u001b[0m \u001b[43m    \u001b[49m\u001b[43m)\u001b[49m\n\u001b[1;32m    131\u001b[0m \u001b[38;5;28;01melif\u001b[39;00m \u001b[38;5;28misinstance\u001b[39m(vision_cfg\u001b[38;5;241m.\u001b[39mlayers, (\u001b[38;5;28mtuple\u001b[39m, \u001b[38;5;28mlist\u001b[39m)):\n\u001b[1;32m    132\u001b[0m     vision_heads \u001b[38;5;241m=\u001b[39m vision_cfg\u001b[38;5;241m.\u001b[39mwidth \u001b[38;5;241m*\u001b[39m \u001b[38;5;241m32\u001b[39m \u001b[38;5;241m/\u001b[39m\u001b[38;5;241m/\u001b[39m vision_cfg\u001b[38;5;241m.\u001b[39mhead_width\n",
      "File \u001b[0;32m/opt/conda/envs/eval/lib/python3.8/site-packages/open_clip/timm_model.py:47\u001b[0m, in \u001b[0;36mTimmModel.__init__\u001b[0;34m(self, model_name, embed_dim, image_size, pool, proj, proj_bias, drop, drop_path, patch_drop, pretrained)\u001b[0m\n\u001b[1;32m     45\u001b[0m \u001b[38;5;28msuper\u001b[39m()\u001b[38;5;241m.\u001b[39m\u001b[38;5;21m__init__\u001b[39m()\n\u001b[1;32m     46\u001b[0m \u001b[38;5;28;01mif\u001b[39;00m timm \u001b[38;5;129;01mis\u001b[39;00m \u001b[38;5;28;01mNone\u001b[39;00m:\n\u001b[0;32m---> 47\u001b[0m     \u001b[38;5;28;01mraise\u001b[39;00m \u001b[38;5;167;01mRuntimeError\u001b[39;00m(\u001b[38;5;124m\"\u001b[39m\u001b[38;5;124mPlease `pip install timm` to use timm models.\u001b[39m\u001b[38;5;124m\"\u001b[39m)\n\u001b[1;32m     48\u001b[0m \u001b[38;5;28mself\u001b[39m\u001b[38;5;241m.\u001b[39mimage_size \u001b[38;5;241m=\u001b[39m to_2tuple(image_size)\n\u001b[1;32m     50\u001b[0m \u001b[38;5;66;03m# setup kwargs that may not be common across all models\u001b[39;00m\n",
      "\u001b[0;31mRuntimeError\u001b[0m: Please `pip install timm` to use timm models."
     ]
    }
   ],
   "source": [
    "model = registry.get_model_class(\"blip2_t5\").from_pretrained(model_type=\"pretrain_flant5xl\")\n",
    "print_mem_stats()"
   ]
  },
  {
   "cell_type": "code",
   "execution_count": null,
   "metadata": {},
   "outputs": [
    {
     "name": "stdout",
     "output_type": "stream",
     "text": [
      "mem used gpu: 13.39 MB, reserved gpu: 42.00MB -> 0.06% of total, 0.19% reserved\n",
      "mem used cpu: 24603.96 MB -> 51.06% of total\n"
     ]
    }
   ],
   "source": [
    "checkpoint = torch.load(ckpt_path, map_location=\"cpu\")\n",
    "print_mem_stats()"
   ]
  },
  {
   "cell_type": "code",
   "execution_count": null,
   "metadata": {},
   "outputs": [
    {
     "name": "stdout",
     "output_type": "stream",
     "text": [
      "mem used gpu: 13.39 MB, reserved gpu: 42.00MB -> 0.06% of total, 0.19% reserved\n",
      "mem used cpu: 24607.19 MB -> 51.06% of total\n"
     ]
    }
   ],
   "source": [
    "model.load_state_dict(checkpoint[\"model\"], strict=False)\n",
    "print_mem_stats()"
   ]
  },
  {
   "cell_type": "code",
   "execution_count": null,
   "metadata": {},
   "outputs": [
    {
     "name": "stdout",
     "output_type": "stream",
     "text": [
      "mem used gpu: 13.39 MB, reserved gpu: 42.00MB -> 0.06% of total, 0.19% reserved\n",
      "mem used cpu: 24606.66 MB -> 51.06% of total\n"
     ]
    }
   ],
   "source": [
    "model.eval()\n",
    "model.to(cpu_device)\n",
    "print_mem_stats()"
   ]
  },
  {
   "cell_type": "code",
   "execution_count": null,
   "metadata": {},
   "outputs": [
    {
     "name": "stdout",
     "output_type": "stream",
     "text": [
      "mem used gpu: 13.39 MB, reserved gpu: 42.00MB -> 0.06% of total, 0.19% reserved\n",
      "mem used cpu: 24607.89 MB -> 51.06% of total\n"
     ]
    }
   ],
   "source": [
    "processor_cfg = {\"name\": \"blip_question\", \"prompt\": \"\"}\n",
    "processor_cfg = OmegaConf.create(processor_cfg)\n",
    "text_processor = registry.get_processor_class(processor_cfg.name).from_config(processor_cfg)\n",
    "print_mem_stats()"
   ]
  },
  {
   "cell_type": "code",
   "execution_count": null,
   "metadata": {},
   "outputs": [
    {
     "data": {
      "text/plain": [
       "torch.Size([1, 267174, 1408])"
      ]
     },
     "execution_count": 19,
     "metadata": {},
     "output_type": "execute_result"
    }
   ],
   "source": [
    "outfeat.shape"
   ]
  },
  {
   "cell_type": "code",
   "execution_count": null,
   "metadata": {},
   "outputs": [
    {
     "name": "stderr",
     "output_type": "stream",
     "text": [
      "/opt/conda/envs/eval/lib/python3.8/site-packages/transformers/generation/configuration_utils.py:418: UserWarning: `num_beams` is set to 1. However, `length_penalty` is set to `1.2` -- this flag is only used in beam-based generation modes. You should set `num_beams>1` or unset `length_penalty`.\n",
      "  warnings.warn(\n"
     ]
    },
    {
     "name": "stdout",
     "output_type": "stream",
     "text": [
      "<pad> The door is far away from the window.</s>\n",
      "mem used gpu: 13.39 MB, reserved gpu: 2922.00MB -> 0.06% of total, 12.99% reserved\n",
      "mem used cpu: 24469.65 MB -> 50.78% of total\n"
     ]
    }
   ],
   "source": [
    "# outfeat_downsampled = outfeat_downsampled.to(cpu_device)\n",
    "# xyz_pts_downsampled = xyz_pts_downsampled.to(cpu_device)\n",
    "outfeat = outfeat.to(cpu_device)\n",
    "xyz_pts = xyz_pts.to(cpu_device)\n",
    "prompt = text_processor(\"Describe the 3D scene in one sentence.\")\n",
    "# model_inputs = {\"text_input\": prompt, \"pc_feat\": outfeat_downsampled, \"pc\": xyz_pts_downsampled}\n",
    "model_inputs = {\"text_input\": prompt, \"pc_feat\": outfeat, \"pc\": xyz_pts}\n",
    "model_outputs = model.predict_answers(\n",
    "    samples=model_inputs,\n",
    "    max_len=50,\n",
    "    length_penalty=1.2,\n",
    "    repetition_penalty=1.5,\n",
    ")\n",
    "model_outputs = model_outputs[0]\n",
    "print(model_outputs)\n",
    "print_mem_stats()"
   ]
  },
  {
   "cell_type": "code",
   "execution_count": null,
   "metadata": {},
   "outputs": [
    {
     "name": "stdout",
     "output_type": "stream",
     "text": [
      "huggingface/tokenizers: The current process just got forked, after parallelism has already been used. Disabling parallelism to avoid deadlocks...\n",
      "To disable this warning, you can either:\n",
      "\t- Avoid using `tokenizers` before the fork if possible\n",
      "\t- Explicitly set the environment variable TOKENIZERS_PARALLELISM=(true | false)\n",
      "huggingface/tokenizers: The current process just got forked, after parallelism has already been used. Disabling parallelism to avoid deadlocks...\n",
      "To disable this warning, you can either:\n",
      "\t- Avoid using `tokenizers` before the fork if possible\n",
      "\t- Explicitly set the environment variable TOKENIZERS_PARALLELISM=(true | false)\n"
     ]
    },
    {
     "data": {
      "image/png": "[encoded data removed]",
      "text/plain": [
       "<Figure size 640x480 with 1 Axes>"
      ]
     },
     "metadata": {},
     "output_type": "display_data"
    }
   ],
   "source": [
    "from sklearn.manifold import TSNE\n",
    "import matplotlib.pyplot as plt\n",
    "from mpl_toolkits.mplot3d import Axes3D\n",
    "\n",
    "ax = plt.figure().add_subplot(111, projection=\"3d\")\n",
    "tsne = TSNE(n_components=3, random_state=0, learning_rate=200, init=\"random\")\n",
    "idx = np.random.choice(outfeat.shape[1], 10000)\n",
    "pc_feature = outfeat[:, idx, :]\n",
    "pc_points = xyz_pts[:, idx, :]\n",
    "pc_feature = pc_feature.squeeze(0).cpu().numpy()  # (N, 1408)\n",
    "pc_feature = tsne.fit_transform(pc_feature)  # (N, 3)\n",
    "pc_feature = (pc_feature - pc_feature.min()) / (pc_feature.max() - pc_feature.min() + 1e-6)\n",
    "pc_points = pc_points.squeeze(0).cpu().numpy()  # (N, 3)\n",
    "ax.scatter(pc_points[:, 0], pc_points[:, 1], pc_points[:, 2], c=pc_feature, s=1)\n",
    "ax.set_aspect(\"equal\")\n",
    "ax.set_xticks([])\n",
    "ax.set_yticks([])\n",
    "ax.set_zticks([])\n",
    "plt.show()"
   ]
  }
 ],
 "metadata": {
  "kernelspec": {
   "display_name": "roco",
   "language": "python",
   "name": "python3"
  },
  "language_info": {
   "codemirror_mode": {
    "name": "ipython",
    "version": 3
   },
   "file_extension": ".py",
   "mimetype": "text/x-python",
   "name": "python",
   "nbconvert_exporter": "python",
   "pygments_lexer": "ipython3",
   "version": "3.8.19"
  }
 },
 "nbformat": 4,
 "nbformat_minor": 2
}
